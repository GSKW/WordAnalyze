{
  "nbformat": 4,
  "nbformat_minor": 0,
  "metadata": {
    "colab": {
      "provenance": []
    },
    "kernelspec": {
      "name": "python3",
      "display_name": "Python 3"
    },
    "language_info": {
      "name": "python"
    }
  },
  "cells": [
    {
      "cell_type": "code",
      "execution_count": 1,
      "metadata": {
        "colab": {
          "base_uri": "https://localhost:8080/"
        },
        "id": "tNd6rQFVAp0K",
        "outputId": "3323d2ab-1b62-496b-c155-caf4dfd31e00"
      },
      "outputs": [
        {
          "output_type": "stream",
          "name": "stdout",
          "text": [
            "Looking in indexes: https://pypi.org/simple, https://us-python.pkg.dev/colab-wheels/public/simple/\n",
            "Collecting pymorphy3\n",
            "  Downloading pymorphy3-1.1.0-py3-none-any.whl (66 kB)\n",
            "\u001b[K     |████████████████████████████████| 66 kB 2.2 MB/s \n",
            "\u001b[?25hRequirement already satisfied: pandas in /usr/local/lib/python3.7/dist-packages (1.3.5)\n",
            "Collecting docopt>=0.6\n",
            "  Downloading docopt-0.6.2.tar.gz (25 kB)\n",
            "Collecting pymorphy3-dicts-ru\n",
            "  Downloading pymorphy3_dicts_ru-2.4.417150.4580142-py2.py3-none-any.whl (8.4 MB)\n",
            "\u001b[K     |████████████████████████████████| 8.4 MB 10.8 MB/s \n",
            "\u001b[?25hCollecting dawg-python>=0.7.1\n",
            "  Downloading DAWG_Python-0.7.2-py2.py3-none-any.whl (11 kB)\n",
            "Requirement already satisfied: python-dateutil>=2.7.3 in /usr/local/lib/python3.7/dist-packages (from pandas) (2.8.2)\n",
            "Requirement already satisfied: numpy>=1.17.3 in /usr/local/lib/python3.7/dist-packages (from pandas) (1.21.6)\n",
            "Requirement already satisfied: pytz>=2017.3 in /usr/local/lib/python3.7/dist-packages (from pandas) (2022.5)\n",
            "Requirement already satisfied: six>=1.5 in /usr/local/lib/python3.7/dist-packages (from python-dateutil>=2.7.3->pandas) (1.15.0)\n",
            "Building wheels for collected packages: docopt\n",
            "  Building wheel for docopt (setup.py) ... \u001b[?25l\u001b[?25hdone\n",
            "  Created wheel for docopt: filename=docopt-0.6.2-py2.py3-none-any.whl size=13723 sha256=1dc4b29f48fd496be531b670bd00c0df9dc6235f8399afc6e2cf528d22c994dd\n",
            "  Stored in directory: /root/.cache/pip/wheels/72/b0/3f/1d95f96ff986c7dfffe46ce2be4062f38ebd04b506c77c81b9\n",
            "Successfully built docopt\n",
            "Installing collected packages: pymorphy3-dicts-ru, docopt, dawg-python, pymorphy3\n",
            "Successfully installed dawg-python-0.7.2 docopt-0.6.2 pymorphy3-1.1.0 pymorphy3-dicts-ru-2.4.417150.4580142\n"
          ]
        }
      ],
      "source": [
        "!pip install pymorphy3 pandas"
      ]
    },
    {
      "cell_type": "code",
      "source": [
        "import pymorphy3\n",
        "from collections import Counter\n",
        "from typing import Optional\n",
        "import pandas as pd"
      ],
      "metadata": {
        "id": "7BYcLf5iAzq_"
      },
      "execution_count": 2,
      "outputs": []
    },
    {
      "cell_type": "code",
      "source": [
        "class RusCounter:\n",
        "    def __init__(self):\n",
        "        self.morph = pymorphy3.MorphAnalyzer()\n",
        "        pass\n",
        "\n",
        "    def preprocessing(self, text: Optional[str]) -> str:\n",
        "        '''\n",
        "        Function for text preprocessing.\n",
        "        Takes string with text and returns clear string with words.\n",
        "        '''\n",
        "        bad = '1234567890()!@#$%^&*' \\\n",
        "        ',./abcdefghijklmnopqrstuvwxyz-' \\\n",
        "        '—_+=«»\\n:;[]–’…'+\"'\"+'\"'\n",
        "\n",
        "        string = text\n",
        "        for letter in string:\n",
        "            if letter in bad:\n",
        "                string = string.replace(letter, '')\n",
        "        return string\n",
        "\n",
        "    def lemmatize(self, text: Optional[str]) -> list:\n",
        "        '''\n",
        "        Function for text lemmatization.\n",
        "        Takes string with text and returns list with lemmatized words.\n",
        "        '''\n",
        "        words = self.preprocessing(text).split()\n",
        "        res = list()\n",
        "        for word in words:\n",
        "            p = self.morph.parse(word)[0]\n",
        "            res.append(p.normal_form)\n",
        "        return res\n",
        "\n",
        "    def count(self, text: Optional[str]) -> dict:\n",
        "        '''\n",
        "        Function for counting words in the text.\n",
        "        Takes string with text and returns dict\n",
        "        with words and their number in the text.\n",
        "        '''\n",
        "        return Counter(self.lemmatize(text))\n",
        "\n",
        "    def plot(self, text: Optional[str]) -> pd.DataFrame():\n",
        "        '''\n",
        "        Function for getting pandas Dataframe.\n",
        "        Takes string with text and returns pandas Dataframe with words\n",
        "        and their number in the text.\n",
        "        '''\n",
        "        dataframe = pd.DataFrame()\n",
        "        info = self.count(text)\n",
        "        dataframe['Word'] = info.keys()\n",
        "        dataframe['Number'] = info.values()\n",
        "        return dataframe\n",
        "    \n",
        "    def get_word_number(self, text: Optional[str], word: Optional[str]) -> int:\n",
        "        '''\n",
        "        Function for getting number of occurrences of a word in a text.\n",
        "        Takes string with text and returns number.\n",
        "        '''\n",
        "        return self.count(text)[self.lemmatize(word)[0]]"
      ],
      "metadata": {
        "id": "HTCJig13AuZA"
      },
      "execution_count": 21,
      "outputs": []
    },
    {
      "cell_type": "code",
      "source": [
        "text = 'Я школьница и сейчас учусь во втором классе. И мне всегда хотелось иметь маленького котенка. ' \\\n",
        "       'У меня скоро день рождения. И я думаю, может мне родители его подарят. И вот он наступил. ' \\\n",
        "       'Проснувшись, я увидела у себя на кровати маленький комочек, он лежал у меня у ногах. ' \\\n",
        "       'Когда я к нему подползла, я очень образовалась, это был он, такой каким я его себе представляла. ' \\\n",
        "       'Он лежал свернувшись комочком, я его гладила он был такой мягкий и пушистый. Но вот встал вопрос, как его назвать. ' \\\n",
        "       'Я очень долго думала и выбрала кличку снежок. Почему я его так назвала, потому что он был такой же белый и пушистый как снег. ' \\\n",
        "       'Мой любимый Снежок всегда со мной рядом, когда я делала уроки, он прибегал и садился ко мне на коленки. ' \\\n",
        "       'Он был такой резвый, я с ним постоянно играю то в прятки, то с клубочком или бантиком. Снежок у меня замечательный и я его люблю.'"
      ],
      "metadata": {
        "id": "GKY4eQCoAwML"
      },
      "execution_count": 4,
      "outputs": []
    },
    {
      "cell_type": "code",
      "source": [
        "counter = RusCounter()\n",
        "counter.plot(text)"
      ],
      "metadata": {
        "colab": {
          "base_uri": "https://localhost:8080/",
          "height": 424
        },
        "id": "Q51XA1jaAxyY",
        "outputId": "a10446fe-46ca-482e-83d2-4a25b39061de"
      },
      "execution_count": 23,
      "outputs": [
        {
          "output_type": "execute_result",
          "data": {
            "text/plain": [
              "             Word  Number\n",
              "0               я      19\n",
              "1       школьница       1\n",
              "2               и       9\n",
              "3          сейчас       1\n",
              "4         учиться       1\n",
              "..            ...     ...\n",
              "77       клубочек       1\n",
              "78            или       1\n",
              "79         бантик       1\n",
              "80  замечательный       1\n",
              "81         любить       1\n",
              "\n",
              "[82 rows x 2 columns]"
            ],
            "text/html": [
              "\n",
              "  <div id=\"df-fe0c82e0-8cdc-4c08-9d52-54539c3c8a3a\">\n",
              "    <div class=\"colab-df-container\">\n",
              "      <div>\n",
              "<style scoped>\n",
              "    .dataframe tbody tr th:only-of-type {\n",
              "        vertical-align: middle;\n",
              "    }\n",
              "\n",
              "    .dataframe tbody tr th {\n",
              "        vertical-align: top;\n",
              "    }\n",
              "\n",
              "    .dataframe thead th {\n",
              "        text-align: right;\n",
              "    }\n",
              "</style>\n",
              "<table border=\"1\" class=\"dataframe\">\n",
              "  <thead>\n",
              "    <tr style=\"text-align: right;\">\n",
              "      <th></th>\n",
              "      <th>Word</th>\n",
              "      <th>Number</th>\n",
              "    </tr>\n",
              "  </thead>\n",
              "  <tbody>\n",
              "    <tr>\n",
              "      <th>0</th>\n",
              "      <td>я</td>\n",
              "      <td>19</td>\n",
              "    </tr>\n",
              "    <tr>\n",
              "      <th>1</th>\n",
              "      <td>школьница</td>\n",
              "      <td>1</td>\n",
              "    </tr>\n",
              "    <tr>\n",
              "      <th>2</th>\n",
              "      <td>и</td>\n",
              "      <td>9</td>\n",
              "    </tr>\n",
              "    <tr>\n",
              "      <th>3</th>\n",
              "      <td>сейчас</td>\n",
              "      <td>1</td>\n",
              "    </tr>\n",
              "    <tr>\n",
              "      <th>4</th>\n",
              "      <td>учиться</td>\n",
              "      <td>1</td>\n",
              "    </tr>\n",
              "    <tr>\n",
              "      <th>...</th>\n",
              "      <td>...</td>\n",
              "      <td>...</td>\n",
              "    </tr>\n",
              "    <tr>\n",
              "      <th>77</th>\n",
              "      <td>клубочек</td>\n",
              "      <td>1</td>\n",
              "    </tr>\n",
              "    <tr>\n",
              "      <th>78</th>\n",
              "      <td>или</td>\n",
              "      <td>1</td>\n",
              "    </tr>\n",
              "    <tr>\n",
              "      <th>79</th>\n",
              "      <td>бантик</td>\n",
              "      <td>1</td>\n",
              "    </tr>\n",
              "    <tr>\n",
              "      <th>80</th>\n",
              "      <td>замечательный</td>\n",
              "      <td>1</td>\n",
              "    </tr>\n",
              "    <tr>\n",
              "      <th>81</th>\n",
              "      <td>любить</td>\n",
              "      <td>1</td>\n",
              "    </tr>\n",
              "  </tbody>\n",
              "</table>\n",
              "<p>82 rows × 2 columns</p>\n",
              "</div>\n",
              "      <button class=\"colab-df-convert\" onclick=\"convertToInteractive('df-fe0c82e0-8cdc-4c08-9d52-54539c3c8a3a')\"\n",
              "              title=\"Convert this dataframe to an interactive table.\"\n",
              "              style=\"display:none;\">\n",
              "        \n",
              "  <svg xmlns=\"http://www.w3.org/2000/svg\" height=\"24px\"viewBox=\"0 0 24 24\"\n",
              "       width=\"24px\">\n",
              "    <path d=\"M0 0h24v24H0V0z\" fill=\"none\"/>\n",
              "    <path d=\"M18.56 5.44l.94 2.06.94-2.06 2.06-.94-2.06-.94-.94-2.06-.94 2.06-2.06.94zm-11 1L8.5 8.5l.94-2.06 2.06-.94-2.06-.94L8.5 2.5l-.94 2.06-2.06.94zm10 10l.94 2.06.94-2.06 2.06-.94-2.06-.94-.94-2.06-.94 2.06-2.06.94z\"/><path d=\"M17.41 7.96l-1.37-1.37c-.4-.4-.92-.59-1.43-.59-.52 0-1.04.2-1.43.59L10.3 9.45l-7.72 7.72c-.78.78-.78 2.05 0 2.83L4 21.41c.39.39.9.59 1.41.59.51 0 1.02-.2 1.41-.59l7.78-7.78 2.81-2.81c.8-.78.8-2.07 0-2.86zM5.41 20L4 18.59l7.72-7.72 1.47 1.35L5.41 20z\"/>\n",
              "  </svg>\n",
              "      </button>\n",
              "      \n",
              "  <style>\n",
              "    .colab-df-container {\n",
              "      display:flex;\n",
              "      flex-wrap:wrap;\n",
              "      gap: 12px;\n",
              "    }\n",
              "\n",
              "    .colab-df-convert {\n",
              "      background-color: #E8F0FE;\n",
              "      border: none;\n",
              "      border-radius: 50%;\n",
              "      cursor: pointer;\n",
              "      display: none;\n",
              "      fill: #1967D2;\n",
              "      height: 32px;\n",
              "      padding: 0 0 0 0;\n",
              "      width: 32px;\n",
              "    }\n",
              "\n",
              "    .colab-df-convert:hover {\n",
              "      background-color: #E2EBFA;\n",
              "      box-shadow: 0px 1px 2px rgba(60, 64, 67, 0.3), 0px 1px 3px 1px rgba(60, 64, 67, 0.15);\n",
              "      fill: #174EA6;\n",
              "    }\n",
              "\n",
              "    [theme=dark] .colab-df-convert {\n",
              "      background-color: #3B4455;\n",
              "      fill: #D2E3FC;\n",
              "    }\n",
              "\n",
              "    [theme=dark] .colab-df-convert:hover {\n",
              "      background-color: #434B5C;\n",
              "      box-shadow: 0px 1px 3px 1px rgba(0, 0, 0, 0.15);\n",
              "      filter: drop-shadow(0px 1px 2px rgba(0, 0, 0, 0.3));\n",
              "      fill: #FFFFFF;\n",
              "    }\n",
              "  </style>\n",
              "\n",
              "      <script>\n",
              "        const buttonEl =\n",
              "          document.querySelector('#df-fe0c82e0-8cdc-4c08-9d52-54539c3c8a3a button.colab-df-convert');\n",
              "        buttonEl.style.display =\n",
              "          google.colab.kernel.accessAllowed ? 'block' : 'none';\n",
              "\n",
              "        async function convertToInteractive(key) {\n",
              "          const element = document.querySelector('#df-fe0c82e0-8cdc-4c08-9d52-54539c3c8a3a');\n",
              "          const dataTable =\n",
              "            await google.colab.kernel.invokeFunction('convertToInteractive',\n",
              "                                                     [key], {});\n",
              "          if (!dataTable) return;\n",
              "\n",
              "          const docLinkHtml = 'Like what you see? Visit the ' +\n",
              "            '<a target=\"_blank\" href=https://colab.research.google.com/notebooks/data_table.ipynb>data table notebook</a>'\n",
              "            + ' to learn more about interactive tables.';\n",
              "          element.innerHTML = '';\n",
              "          dataTable['output_type'] = 'display_data';\n",
              "          await google.colab.output.renderOutput(dataTable, element);\n",
              "          const docLink = document.createElement('div');\n",
              "          docLink.innerHTML = docLinkHtml;\n",
              "          element.appendChild(docLink);\n",
              "        }\n",
              "      </script>\n",
              "    </div>\n",
              "  </div>\n",
              "  "
            ]
          },
          "metadata": {},
          "execution_count": 23
        }
      ]
    },
    {
      "cell_type": "code",
      "source": [
        "examples = ['Назвать.', 'назову, ', 'Названный', 'Назвал']\n",
        "for example in examples:\n",
        "  print(counter.get_word_number(text, example))"
      ],
      "metadata": {
        "colab": {
          "base_uri": "https://localhost:8080/"
        },
        "id": "Vhi3Q2SsA6Db",
        "outputId": "d27e9ad0-150d-4d24-ad7f-548c40ee4fcb"
      },
      "execution_count": 20,
      "outputs": [
        {
          "output_type": "stream",
          "name": "stdout",
          "text": [
            "2\n",
            "2\n",
            "2\n",
            "2\n"
          ]
        }
      ]
    },
    {
      "cell_type": "code",
      "source": [
        "help(counter.lemmatize)"
      ],
      "metadata": {
        "colab": {
          "base_uri": "https://localhost:8080/"
        },
        "id": "o4dsRnNPDbQm",
        "outputId": "4390bab0-8c00-4779-ffc4-0b73e50d397c"
      },
      "execution_count": 24,
      "outputs": [
        {
          "output_type": "stream",
          "name": "stdout",
          "text": [
            "Help on method lemmatize in module __main__:\n",
            "\n",
            "lemmatize(text: Union[str, NoneType]) -> list method of __main__.RusCounter instance\n",
            "    Function for text lemmatization.\n",
            "    Takes string with text and returns list with lemmatized words.\n",
            "\n"
          ]
        }
      ]
    },
    {
      "cell_type": "code",
      "source": [],
      "metadata": {
        "id": "-4t2hDeFGGNd"
      },
      "execution_count": null,
      "outputs": []
    }
  ]
}